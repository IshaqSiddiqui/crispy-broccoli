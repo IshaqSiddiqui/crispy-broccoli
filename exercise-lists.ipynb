{
 "cells": [
  {
   "cell_type": "markdown",
   "id": "05e35da8",
   "metadata": {
    "papermill": {
     "duration": 0.007623,
     "end_time": "2022-08-29T08:11:46.368647",
     "exception": false,
     "start_time": "2022-08-29T08:11:46.361024",
     "status": "completed"
    },
    "tags": []
   },
   "source": [
    "**This notebook is an exercise in the [Python](https://www.kaggle.com/learn/python) course.  You can reference the tutorial at [this link](https://www.kaggle.com/colinmorris/lists).**\n",
    "\n",
    "---\n"
   ]
  },
  {
   "cell_type": "markdown",
   "id": "325128d1",
   "metadata": {
    "papermill": {
     "duration": 0.007395,
     "end_time": "2022-08-29T08:11:46.382663",
     "exception": false,
     "start_time": "2022-08-29T08:11:46.375268",
     "status": "completed"
    },
    "tags": []
   },
   "source": [
    "Things get more interesting with lists. You'll apply your new knowledge to solve the questions below. Remember to run the following cell first."
   ]
  },
  {
   "cell_type": "code",
   "execution_count": 1,
   "id": "fcf5ef93",
   "metadata": {
    "execution": {
     "iopub.execute_input": "2022-08-29T08:11:46.397897Z",
     "iopub.status.busy": "2022-08-29T08:11:46.397199Z",
     "iopub.status.idle": "2022-08-29T08:11:46.461770Z",
     "shell.execute_reply": "2022-08-29T08:11:46.460409Z"
    },
    "papermill": {
     "duration": 0.075395,
     "end_time": "2022-08-29T08:11:46.465174",
     "exception": false,
     "start_time": "2022-08-29T08:11:46.389779",
     "status": "completed"
    },
    "tags": []
   },
   "outputs": [
    {
     "name": "stdout",
     "output_type": "stream",
     "text": [
      "Setup complete.\n"
     ]
    }
   ],
   "source": [
    "from learntools.core import binder; binder.bind(globals())\n",
    "from learntools.python.ex4 import *\n",
    "print('Setup complete.')"
   ]
  },
  {
   "cell_type": "markdown",
   "id": "87c29b8a",
   "metadata": {
    "papermill": {
     "duration": 0.005396,
     "end_time": "2022-08-29T08:11:46.476284",
     "exception": false,
     "start_time": "2022-08-29T08:11:46.470888",
     "status": "completed"
    },
    "tags": []
   },
   "source": [
    "# 1.\n",
    "\n",
    "Complete the function below according to its docstring."
   ]
  },
  {
   "cell_type": "code",
   "execution_count": 2,
   "id": "820b57b1",
   "metadata": {
    "execution": {
     "iopub.execute_input": "2022-08-29T08:11:46.488774Z",
     "iopub.status.busy": "2022-08-29T08:11:46.488371Z",
     "iopub.status.idle": "2022-08-29T08:11:46.498285Z",
     "shell.execute_reply": "2022-08-29T08:11:46.497492Z"
    },
    "papermill": {
     "duration": 0.019109,
     "end_time": "2022-08-29T08:11:46.500759",
     "exception": false,
     "start_time": "2022-08-29T08:11:46.481650",
     "status": "completed"
    },
    "tags": []
   },
   "outputs": [
    {
     "data": {
      "application/javascript": [
       "parent.postMessage({\"jupyterEvent\": \"custom.exercise_interaction\", \"data\": {\"outcomeType\": 1, \"valueTowardsCompletion\": 0.2, \"interactionType\": 1, \"questionType\": 2, \"questionId\": \"1_SelectSecondItem\", \"learnToolsVersion\": \"0.3.4\", \"failureMessage\": \"\", \"exceptionClass\": \"\", \"trace\": \"\"}}, \"*\")"
      ],
      "text/plain": [
       "<IPython.core.display.Javascript object>"
      ]
     },
     "metadata": {},
     "output_type": "display_data"
    },
    {
     "data": {
      "text/markdown": [
       "<span style=\"color:#33cc33\">Correct</span>"
      ],
      "text/plain": [
       "Correct"
      ]
     },
     "metadata": {},
     "output_type": "display_data"
    }
   ],
   "source": [
    "def select_second(L):\n",
    "    if len(L) < 2: \n",
    "        return None\n",
    "    return L[1]\n",
    "    \n",
    "\n",
    "# Check your answer\n",
    "q1.check()"
   ]
  },
  {
   "cell_type": "code",
   "execution_count": 3,
   "id": "61035ca0",
   "metadata": {
    "execution": {
     "iopub.execute_input": "2022-08-29T08:11:46.513751Z",
     "iopub.status.busy": "2022-08-29T08:11:46.512971Z",
     "iopub.status.idle": "2022-08-29T08:11:46.525223Z",
     "shell.execute_reply": "2022-08-29T08:11:46.524494Z"
    },
    "papermill": {
     "duration": 0.020904,
     "end_time": "2022-08-29T08:11:46.527162",
     "exception": false,
     "start_time": "2022-08-29T08:11:46.506258",
     "status": "completed"
    },
    "tags": []
   },
   "outputs": [
    {
     "data": {
      "application/javascript": [
       "parent.postMessage({\"jupyterEvent\": \"custom.exercise_interaction\", \"data\": {\"interactionType\": 2, \"questionType\": 2, \"questionId\": \"1_SelectSecondItem\", \"learnToolsVersion\": \"0.3.4\", \"valueTowardsCompletion\": 0.0, \"failureMessage\": \"\", \"exceptionClass\": \"\", \"trace\": \"\", \"outcomeType\": 4}}, \"*\")"
      ],
      "text/plain": [
       "<IPython.core.display.Javascript object>"
      ]
     },
     "metadata": {},
     "output_type": "display_data"
    },
    {
     "data": {
      "text/markdown": [
       "<span style=\"color:#3366cc\">Hint:</span> Python starts counting at 0. So the second item isn't indexed with a 2"
      ],
      "text/plain": [
       "Hint: Python starts counting at 0. So the second item isn't indexed with a 2"
      ]
     },
     "metadata": {},
     "output_type": "display_data"
    },
    {
     "data": {
      "application/javascript": [
       "parent.postMessage({\"jupyterEvent\": \"custom.exercise_interaction\", \"data\": {\"interactionType\": 3, \"questionType\": 2, \"questionId\": \"1_SelectSecondItem\", \"learnToolsVersion\": \"0.3.4\", \"valueTowardsCompletion\": 0.0, \"failureMessage\": \"\", \"exceptionClass\": \"\", \"trace\": \"\", \"outcomeType\": 4}}, \"*\")"
      ],
      "text/plain": [
       "<IPython.core.display.Javascript object>"
      ]
     },
     "metadata": {},
     "output_type": "display_data"
    },
    {
     "data": {
      "text/markdown": [
       "<span style=\"color:#33cc99\">Solution:</span> \n",
       "```python\n",
       "def select_second(L):\n",
       "    if len(L) < 2:\n",
       "        return None\n",
       "    return L[1]\n",
       "```"
      ],
      "text/plain": [
       "Solution: \n",
       "```python\n",
       "def select_second(L):\n",
       "    if len(L) < 2:\n",
       "        return None\n",
       "    return L[1]\n",
       "```"
      ]
     },
     "metadata": {},
     "output_type": "display_data"
    }
   ],
   "source": [
    "q1.hint()\n",
    "q1.solution()"
   ]
  },
  {
   "cell_type": "markdown",
   "id": "fa104caf",
   "metadata": {
    "papermill": {
     "duration": 0.005634,
     "end_time": "2022-08-29T08:11:46.538859",
     "exception": false,
     "start_time": "2022-08-29T08:11:46.533225",
     "status": "completed"
    },
    "tags": []
   },
   "source": []
  },
  {
   "cell_type": "code",
   "execution_count": null,
   "id": "f3b5a292",
   "metadata": {
    "papermill": {
     "duration": 0.005499,
     "end_time": "2022-08-29T08:11:46.550156",
     "exception": false,
     "start_time": "2022-08-29T08:11:46.544657",
     "status": "completed"
    },
    "tags": []
   },
   "outputs": [],
   "source": []
  },
  {
   "cell_type": "markdown",
   "id": "d9212303",
   "metadata": {
    "papermill": {
     "duration": 0.005398,
     "end_time": "2022-08-29T08:11:46.561317",
     "exception": false,
     "start_time": "2022-08-29T08:11:46.555919",
     "status": "completed"
    },
    "tags": []
   },
   "source": [
    "# 2.\n",
    "\n",
    "You are analyzing sports teams.  Members of each team are stored in a list. The Coach is the first name in the list, the captain is the second name in the list, and other players are listed after that. \n",
    "These lists are stored in another list, which starts with the best team and proceeds through the list to the worst team last.  Complete the function below to select the **captain** of the worst team."
   ]
  },
  {
   "cell_type": "code",
   "execution_count": 4,
   "id": "badc4de7",
   "metadata": {
    "execution": {
     "iopub.execute_input": "2022-08-29T08:11:46.574855Z",
     "iopub.status.busy": "2022-08-29T08:11:46.573940Z",
     "iopub.status.idle": "2022-08-29T08:11:46.582070Z",
     "shell.execute_reply": "2022-08-29T08:11:46.581311Z"
    },
    "papermill": {
     "duration": 0.01717,
     "end_time": "2022-08-29T08:11:46.584104",
     "exception": false,
     "start_time": "2022-08-29T08:11:46.566934",
     "status": "completed"
    },
    "tags": []
   },
   "outputs": [
    {
     "data": {
      "application/javascript": [
       "parent.postMessage({\"jupyterEvent\": \"custom.exercise_interaction\", \"data\": {\"outcomeType\": 1, \"valueTowardsCompletion\": 0.2, \"interactionType\": 1, \"questionType\": 2, \"questionId\": \"2_LosingTeamCaptain\", \"learnToolsVersion\": \"0.3.4\", \"failureMessage\": \"\", \"exceptionClass\": \"\", \"trace\": \"\"}}, \"*\")"
      ],
      "text/plain": [
       "<IPython.core.display.Javascript object>"
      ]
     },
     "metadata": {},
     "output_type": "display_data"
    },
    {
     "data": {
      "text/markdown": [
       "<span style=\"color:#33cc33\">Correct</span>"
      ],
      "text/plain": [
       "Correct"
      ]
     },
     "metadata": {},
     "output_type": "display_data"
    }
   ],
   "source": [
    "def losing_team_captain(teams):\n",
    "    # get the last list \n",
    "    # get the person [1]\n",
    "    worst_team = teams[-1]\n",
    "    return worst_team[1]\n",
    "    \n",
    "   \n",
    "\n",
    "# Check your answer\n",
    "q2.check()"
   ]
  },
  {
   "cell_type": "code",
   "execution_count": 5,
   "id": "da9616d7",
   "metadata": {
    "execution": {
     "iopub.execute_input": "2022-08-29T08:11:46.598539Z",
     "iopub.status.busy": "2022-08-29T08:11:46.597824Z",
     "iopub.status.idle": "2022-08-29T08:11:46.605188Z",
     "shell.execute_reply": "2022-08-29T08:11:46.604458Z"
    },
    "papermill": {
     "duration": 0.016904,
     "end_time": "2022-08-29T08:11:46.607219",
     "exception": false,
     "start_time": "2022-08-29T08:11:46.590315",
     "status": "completed"
    },
    "tags": []
   },
   "outputs": [
    {
     "data": {
      "application/javascript": [
       "parent.postMessage({\"jupyterEvent\": \"custom.exercise_interaction\", \"data\": {\"interactionType\": 3, \"questionType\": 2, \"questionId\": \"2_LosingTeamCaptain\", \"learnToolsVersion\": \"0.3.4\", \"valueTowardsCompletion\": 0.0, \"failureMessage\": \"\", \"exceptionClass\": \"\", \"trace\": \"\", \"outcomeType\": 4}}, \"*\")"
      ],
      "text/plain": [
       "<IPython.core.display.Javascript object>"
      ]
     },
     "metadata": {},
     "output_type": "display_data"
    },
    {
     "data": {
      "text/markdown": [
       "<span style=\"color:#33cc99\">Solution:</span> \n",
       "```python\n",
       "def losing_team_captain(teams):\n",
       "    return teams[-1][1]\n",
       "```"
      ],
      "text/plain": [
       "Solution: \n",
       "```python\n",
       "def losing_team_captain(teams):\n",
       "    return teams[-1][1]\n",
       "```"
      ]
     },
     "metadata": {},
     "output_type": "display_data"
    }
   ],
   "source": [
    "#q2.hint()\n",
    "q2.solution()"
   ]
  },
  {
   "cell_type": "markdown",
   "id": "57c01c72",
   "metadata": {
    "papermill": {
     "duration": 0.006048,
     "end_time": "2022-08-29T08:11:46.619672",
     "exception": false,
     "start_time": "2022-08-29T08:11:46.613624",
     "status": "completed"
    },
    "tags": []
   },
   "source": [
    "# 3.\n",
    "\n",
    "The next iteration of Mario Kart will feature an extra-infuriating new item, the *Purple Shell*. When used, it warps the last place racer into first place and the first place racer into last place. Complete the function below to implement the Purple Shell's effect."
   ]
  },
  {
   "cell_type": "code",
   "execution_count": 6,
   "id": "ed444e95",
   "metadata": {
    "execution": {
     "iopub.execute_input": "2022-08-29T08:11:46.634379Z",
     "iopub.status.busy": "2022-08-29T08:11:46.633496Z",
     "iopub.status.idle": "2022-08-29T08:11:46.642918Z",
     "shell.execute_reply": "2022-08-29T08:11:46.641830Z"
    },
    "papermill": {
     "duration": 0.019007,
     "end_time": "2022-08-29T08:11:46.644988",
     "exception": false,
     "start_time": "2022-08-29T08:11:46.625981",
     "status": "completed"
    },
    "tags": []
   },
   "outputs": [
    {
     "data": {
      "application/javascript": [
       "parent.postMessage({\"jupyterEvent\": \"custom.exercise_interaction\", \"data\": {\"outcomeType\": 1, \"valueTowardsCompletion\": 0.2, \"interactionType\": 1, \"questionType\": 2, \"questionId\": \"3_PurpleShell\", \"learnToolsVersion\": \"0.3.4\", \"failureMessage\": \"\", \"exceptionClass\": \"\", \"trace\": \"\"}}, \"*\")"
      ],
      "text/plain": [
       "<IPython.core.display.Javascript object>"
      ]
     },
     "metadata": {},
     "output_type": "display_data"
    },
    {
     "data": {
      "text/markdown": [
       "<span style=\"color:#33cc33\">Correct</span>"
      ],
      "text/plain": [
       "Correct"
      ]
     },
     "metadata": {},
     "output_type": "display_data"
    }
   ],
   "source": [
    "def purple_shell(racers):\n",
    "    racers[-1] , racers[0] = racers[0], racers[-1]\n",
    "    \n",
    "    \n",
    "\n",
    "\n",
    "\n",
    "   \n",
    "    \n",
    "    \n",
    "    \n",
    "\n",
    "    \n",
    "\n",
    "    \n",
    "\n",
    "\n",
    "q3.check()"
   ]
  },
  {
   "cell_type": "code",
   "execution_count": 7,
   "id": "e7452b0f",
   "metadata": {
    "execution": {
     "iopub.execute_input": "2022-08-29T08:11:46.660923Z",
     "iopub.status.busy": "2022-08-29T08:11:46.660218Z",
     "iopub.status.idle": "2022-08-29T08:11:46.667314Z",
     "shell.execute_reply": "2022-08-29T08:11:46.666493Z"
    },
    "papermill": {
     "duration": 0.017767,
     "end_time": "2022-08-29T08:11:46.669314",
     "exception": false,
     "start_time": "2022-08-29T08:11:46.651547",
     "status": "completed"
    },
    "tags": []
   },
   "outputs": [
    {
     "data": {
      "application/javascript": [
       "parent.postMessage({\"jupyterEvent\": \"custom.exercise_interaction\", \"data\": {\"interactionType\": 3, \"questionType\": 2, \"questionId\": \"3_PurpleShell\", \"learnToolsVersion\": \"0.3.4\", \"valueTowardsCompletion\": 0.0, \"failureMessage\": \"\", \"exceptionClass\": \"\", \"trace\": \"\", \"outcomeType\": 4}}, \"*\")"
      ],
      "text/plain": [
       "<IPython.core.display.Javascript object>"
      ]
     },
     "metadata": {},
     "output_type": "display_data"
    },
    {
     "data": {
      "text/markdown": [
       "<span style=\"color:#33cc99\">Solution:</span> \n",
       "```python\n",
       "def purple_shell(racers):\n",
       "    # One slick way to do the swap is x[0], x[-1] = x[-1], x[0].\n",
       "    temp = racers[0]\n",
       "    racers[0] = racers[-1]\n",
       "    racers[-1] = temp\n",
       "```"
      ],
      "text/plain": [
       "Solution: \n",
       "```python\n",
       "def purple_shell(racers):\n",
       "    # One slick way to do the swap is x[0], x[-1] = x[-1], x[0].\n",
       "    temp = racers[0]\n",
       "    racers[0] = racers[-1]\n",
       "    racers[-1] = temp\n",
       "```"
      ]
     },
     "metadata": {},
     "output_type": "display_data"
    }
   ],
   "source": [
    "#q3.hint()\n",
    "q3.solution()"
   ]
  },
  {
   "cell_type": "markdown",
   "id": "5fb949c5",
   "metadata": {
    "papermill": {
     "duration": 0.006479,
     "end_time": "2022-08-29T08:11:46.682485",
     "exception": false,
     "start_time": "2022-08-29T08:11:46.676006",
     "status": "completed"
    },
    "tags": []
   },
   "source": [
    "# 4.\n",
    "\n",
    "What are the lengths of the following lists? Fill in the variable `lengths` with your predictions. (Try to make a prediction for each list *without* just calling `len()` on it.)"
   ]
  },
  {
   "cell_type": "code",
   "execution_count": 8,
   "id": "730426a8",
   "metadata": {
    "execution": {
     "iopub.execute_input": "2022-08-29T08:11:46.698237Z",
     "iopub.status.busy": "2022-08-29T08:11:46.697520Z",
     "iopub.status.idle": "2022-08-29T08:11:46.705979Z",
     "shell.execute_reply": "2022-08-29T08:11:46.705115Z"
    },
    "papermill": {
     "duration": 0.01877,
     "end_time": "2022-08-29T08:11:46.707943",
     "exception": false,
     "start_time": "2022-08-29T08:11:46.689173",
     "status": "completed"
    },
    "tags": []
   },
   "outputs": [
    {
     "data": {
      "application/javascript": [
       "parent.postMessage({\"jupyterEvent\": \"custom.exercise_interaction\", \"data\": {\"outcomeType\": 4, \"interactionType\": 1, \"questionType\": 1, \"questionId\": \"4_UnderstandLen\", \"learnToolsVersion\": \"0.3.4\", \"valueTowardsCompletion\": 0.0, \"failureMessage\": \"\", \"exceptionClass\": \"\", \"trace\": \"\"}}, \"*\")"
      ],
      "text/plain": [
       "<IPython.core.display.Javascript object>"
      ]
     },
     "metadata": {},
     "output_type": "display_data"
    },
    {
     "data": {
      "text/markdown": [
       "<span style=\"color:#ccaa33\">Check:</span> When you've updated the starter code, `check()` will tell you whether your code is correct. You need to update the code that creates variable `lengths`"
      ],
      "text/plain": [
       "Check: When you've updated the starter code, `check()` will tell you whether your code is correct. You need to update the code that creates variable `lengths`"
      ]
     },
     "metadata": {},
     "output_type": "display_data"
    }
   ],
   "source": [
    "a = [1, 2, 3]\n",
    "b = [1, [2, 3]]\n",
    "c = []\n",
    "d = [1, 2, 3][1:]\n",
    "\n",
    "# Put your predictions in the list below. Lengths should contain 4 numbers, the\n",
    "# first being the length of a, the second being the length of b and so on.\n",
    "lengths = []\n",
    "\n",
    "# Check your answer\n",
    "q4.check()"
   ]
  },
  {
   "cell_type": "code",
   "execution_count": 9,
   "id": "082d3708",
   "metadata": {
    "execution": {
     "iopub.execute_input": "2022-08-29T08:11:46.724162Z",
     "iopub.status.busy": "2022-08-29T08:11:46.723467Z",
     "iopub.status.idle": "2022-08-29T08:11:46.730457Z",
     "shell.execute_reply": "2022-08-29T08:11:46.729671Z"
    },
    "papermill": {
     "duration": 0.01747,
     "end_time": "2022-08-29T08:11:46.732441",
     "exception": false,
     "start_time": "2022-08-29T08:11:46.714971",
     "status": "completed"
    },
    "tags": []
   },
   "outputs": [
    {
     "data": {
      "application/javascript": [
       "parent.postMessage({\"jupyterEvent\": \"custom.exercise_interaction\", \"data\": {\"interactionType\": 3, \"questionType\": 1, \"questionId\": \"4_UnderstandLen\", \"learnToolsVersion\": \"0.3.4\", \"valueTowardsCompletion\": 0.0, \"failureMessage\": \"\", \"exceptionClass\": \"\", \"trace\": \"\", \"outcomeType\": 4}}, \"*\")"
      ],
      "text/plain": [
       "<IPython.core.display.Javascript object>"
      ]
     },
     "metadata": {},
     "output_type": "display_data"
    },
    {
     "data": {
      "text/markdown": [
       "<span style=\"color:#33cc99\">Solution:</span> \n",
       "- a: There are three items in this list. Nothing tricky yet.\n",
       "- b: The list `[2, 3]` counts as a single item. It has one item before it. So we have 2 items in the list\n",
       "- c: The empty list has 0 items\n",
       "- d: The expression is the same as the list `[2, 3]`, which has length 2."
      ],
      "text/plain": [
       "Solution: \n",
       "- a: There are three items in this list. Nothing tricky yet.\n",
       "- b: The list `[2, 3]` counts as a single item. It has one item before it. So we have 2 items in the list\n",
       "- c: The empty list has 0 items\n",
       "- d: The expression is the same as the list `[2, 3]`, which has length 2."
      ]
     },
     "metadata": {},
     "output_type": "display_data"
    }
   ],
   "source": [
    "# line below provides some explanation\n",
    "q4.solution()"
   ]
  },
  {
   "cell_type": "markdown",
   "id": "657e2153",
   "metadata": {
    "papermill": {
     "duration": 0.006967,
     "end_time": "2022-08-29T08:11:46.746845",
     "exception": false,
     "start_time": "2022-08-29T08:11:46.739878",
     "status": "completed"
    },
    "tags": []
   },
   "source": [
    "# 5. <span title=\"A bit spicy\" style=\"color: darkgreen \">🌶️</span>\n",
    "\n",
    "We're using lists to record people who attended our party and what order they arrived in. For example, the following list represents a party with 7 guests, in which Adela showed up first and Ford was the last to arrive:\n",
    "\n",
    "    party_attendees = ['Adela', 'Fleda', 'Owen', 'May', 'Mona', 'Gilbert', 'Ford']\n",
    "\n",
    "A guest is considered 'fashionably late' if they arrived after at least half of the party's guests. However, they must not be the very last guest (that's taking it too far). In the above example, Mona and Gilbert are the only guests who were fashionably late.\n",
    "\n",
    "Complete the function below which takes a list of party attendees as well as a person, and tells us whether that person is fashionably late."
   ]
  },
  {
   "cell_type": "code",
   "execution_count": 10,
   "id": "5d467524",
   "metadata": {
    "execution": {
     "iopub.execute_input": "2022-08-29T08:11:46.763367Z",
     "iopub.status.busy": "2022-08-29T08:11:46.762645Z",
     "iopub.status.idle": "2022-08-29T08:11:46.770852Z",
     "shell.execute_reply": "2022-08-29T08:11:46.770032Z"
    },
    "papermill": {
     "duration": 0.01884,
     "end_time": "2022-08-29T08:11:46.772806",
     "exception": false,
     "start_time": "2022-08-29T08:11:46.753966",
     "status": "completed"
    },
    "tags": []
   },
   "outputs": [
    {
     "data": {
      "application/javascript": [
       "parent.postMessage({\"jupyterEvent\": \"custom.exercise_interaction\", \"data\": {\"outcomeType\": 1, \"valueTowardsCompletion\": 0.2, \"interactionType\": 1, \"questionType\": 2, \"questionId\": \"5_FashionablyLate\", \"learnToolsVersion\": \"0.3.4\", \"failureMessage\": \"\", \"exceptionClass\": \"\", \"trace\": \"\"}}, \"*\")"
      ],
      "text/plain": [
       "<IPython.core.display.Javascript object>"
      ]
     },
     "metadata": {},
     "output_type": "display_data"
    },
    {
     "data": {
      "text/markdown": [
       "<span style=\"color:#33cc33\">Correct</span>"
      ],
      "text/plain": [
       "Correct"
      ]
     },
     "metadata": {},
     "output_type": "display_data"
    }
   ],
   "source": [
    "def fashionably_late(arrivals, name):\n",
    "    order = arrivals.index(name)\n",
    "    long = len(arrivals)\n",
    "    hlf = (len)(arrivals)\n",
    "    return(order >= hlf/2 and order != long - 1) \n",
    "     \n",
    "    \n",
    "    \n",
    "\n",
    "# Check your answer\n",
    "q5.check()"
   ]
  },
  {
   "cell_type": "code",
   "execution_count": 11,
   "id": "e5301783",
   "metadata": {
    "execution": {
     "iopub.execute_input": "2022-08-29T08:11:46.789593Z",
     "iopub.status.busy": "2022-08-29T08:11:46.789137Z",
     "iopub.status.idle": "2022-08-29T08:11:46.792825Z",
     "shell.execute_reply": "2022-08-29T08:11:46.791869Z"
    },
    "papermill": {
     "duration": 0.014626,
     "end_time": "2022-08-29T08:11:46.794792",
     "exception": false,
     "start_time": "2022-08-29T08:11:46.780166",
     "status": "completed"
    },
    "tags": []
   },
   "outputs": [],
   "source": [
    "#q5.hint()\n",
    "#q5.solution()"
   ]
  },
  {
   "cell_type": "markdown",
   "id": "605e2fe8",
   "metadata": {
    "papermill": {
     "duration": 0.007115,
     "end_time": "2022-08-29T08:11:46.809315",
     "exception": false,
     "start_time": "2022-08-29T08:11:46.802200",
     "status": "completed"
    },
    "tags": []
   },
   "source": [
    "# Keep Going\n",
    "\n",
    "That's it for lists and tuples! Now you have the baseline knowledge to **[learn about loops](https://www.kaggle.com/colinmorris/loops-and-list-comprehensions)**, which is where lists and tuples get really interesting. "
   ]
  },
  {
   "cell_type": "markdown",
   "id": "a0583d34",
   "metadata": {
    "papermill": {
     "duration": 0.007103,
     "end_time": "2022-08-29T08:11:46.823754",
     "exception": false,
     "start_time": "2022-08-29T08:11:46.816651",
     "status": "completed"
    },
    "tags": []
   },
   "source": [
    "---\n",
    "\n",
    "\n",
    "\n",
    "\n",
    "*Have questions or comments? Visit the [course discussion forum](https://www.kaggle.com/learn/python/discussion) to chat with other learners.*"
   ]
  }
 ],
 "metadata": {
  "kernelspec": {
   "display_name": "Python 3",
   "language": "python",
   "name": "python3"
  },
  "language_info": {
   "codemirror_mode": {
    "name": "ipython",
    "version": 3
   },
   "file_extension": ".py",
   "mimetype": "text/x-python",
   "name": "python",
   "nbconvert_exporter": "python",
   "pygments_lexer": "ipython3",
   "version": "3.7.12"
  },
  "papermill": {
   "default_parameters": {},
   "duration": 10.232341,
   "end_time": "2022-08-29T08:11:47.452519",
   "environment_variables": {},
   "exception": null,
   "input_path": "__notebook__.ipynb",
   "output_path": "__notebook__.ipynb",
   "parameters": {},
   "start_time": "2022-08-29T08:11:37.220178",
   "version": "2.3.4"
  }
 },
 "nbformat": 4,
 "nbformat_minor": 5
}
